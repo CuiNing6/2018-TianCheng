{
 "cells": [
  {
   "cell_type": "code",
   "execution_count": 1,
   "metadata": {
    "collapsed": true
   },
   "outputs": [],
   "source": [
    "import numpy as np\n",
    "import pandas as pd\n",
    "import matplotlib.pyplot as plt\n",
    "\n",
    "import os\n",
    "\n",
    "%matplotlib inline"
   ]
  },
  {
   "cell_type": "code",
   "execution_count": 2,
   "metadata": {
    "collapsed": true
   },
   "outputs": [],
   "source": [
    "def get_data(name):\n",
    "    train_name = name+'_train_new.csv'\n",
    "    test_name = 'test_'+name+'_round2.csv'\n",
    "    train_data_path = os.path.join(path, train_name)\n",
    "    test_data_path = os.path.join(path, test_name)\n",
    "    train_data = pd.read_csv('../'+train_data_path)\n",
    "    test_data = pd.read_csv('../'+test_data_path)\n",
    "    train_data = pd.concat([train_data, test_data], axis=0, ignore_index=True, sort=False)\n",
    "    if name=='tag':\n",
    "        train_data.loc[train_data['Tag']==0.5, 'Tag']=-1\n",
    "        train_data['Tag'] = train_data['Tag'].astype(int)\n",
    "    return train_data"
   ]
  },
  {
   "cell_type": "code",
   "execution_count": 3,
   "metadata": {
    "collapsed": false
   },
   "outputs": [
    {
     "name": "stderr",
     "output_type": "stream",
     "text": [
      "C:\\Program Files\\Anaconda3\\lib\\site-packages\\IPython\\core\\interactiveshell.py:2821: DtypeWarning: Columns (8) have mixed types. Specify dtype option on import or set low_memory=False.\n",
      "  if self.run_code(code, result):\n"
     ]
    },
    {
     "name": "stdout",
     "output_type": "stream",
     "text": [
      "(2601421, 20)\n",
      "(393036, 27)\n",
      "(62767, 2)\n"
     ]
    }
   ],
   "source": [
    "path = os.path.join(os.path.dirname('__file__'),'data')\n",
    "\n",
    "operation_data = get_data(name='operation')\n",
    "transaction_data = get_data(name='transaction')\n",
    "tag = get_data(name='tag')\n",
    "\n",
    "print(operation_data.shape)\n",
    "print(transaction_data.shape)\n",
    "print(tag.shape)"
   ]
  },
  {
   "cell_type": "code",
   "execution_count": 4,
   "metadata": {
    "collapsed": false
   },
   "outputs": [
    {
     "name": "stdout",
     "output_type": "stream",
     "text": [
      "(393036, 26)\n"
     ]
    }
   ],
   "source": [
    "tr_data = pd.merge(transaction_data, tag, on='UID', how='left')\n",
    "trans_delete = ['code1', 'code2']\n",
    "tr_data = tr_data.drop(trans_delete, axis=1)\n",
    "print(tr_data.shape)"
   ]
  },
  {
   "cell_type": "code",
   "execution_count": 5,
   "metadata": {
    "collapsed": true
   },
   "outputs": [],
   "source": [
    "train_data = tr_data[tr_data['Tag']!=-1]\n",
    "test_data = tr_data[tr_data['Tag']==-1]"
   ]
  },
  {
   "cell_type": "code",
   "execution_count": 6,
   "metadata": {
    "collapsed": false
   },
   "outputs": [
    {
     "name": "stderr",
     "output_type": "stream",
     "text": [
      "C:\\Program Files\\Anaconda3\\lib\\site-packages\\ipykernel\\__main__.py:2: FutureWarning: using a dict on a Series for aggregation\n",
      "is deprecated and will be removed in a future version\n",
      "  from ipykernel import kernelapp as app\n",
      "C:\\Program Files\\Anaconda3\\lib\\site-packages\\ipykernel\\__main__.py:3: FutureWarning: using a dict on a Series for aggregation\n",
      "is deprecated and will be removed in a future version\n",
      "  app.launch_new_instance()\n",
      "C:\\Program Files\\Anaconda3\\lib\\site-packages\\ipykernel\\__main__.py:4: FutureWarning: using a dict on a Series for aggregation\n",
      "is deprecated and will be removed in a future version\n",
      "C:\\Program Files\\Anaconda3\\lib\\site-packages\\ipykernel\\__main__.py:5: FutureWarning: using a dict on a Series for aggregation\n",
      "is deprecated and will be removed in a future version\n"
     ]
    },
    {
     "name": "stdout",
     "output_type": "stream",
     "text": [
      "               merchant  merchant_UID_count  merchant_crt\n",
      "151    01ecb3fa2bfc7f48                  29      0.827586\n",
      "986    0d9ffabe9791dae0                  23      0.782609\n",
      "2225   1d1a3a44c64c54bc                  21      0.857143\n",
      "2245   1d70c9a7b3b11c39                 260      0.823077\n",
      "2505   204689d96577cade                  22      0.818182\n",
      "3126   2873fd07e8ea58d5                  32      0.937500\n",
      "3603   2f309b871b04d75a                  26      0.923077\n",
      "3902   32ca26f1e957f3cd                  29      0.965517\n",
      "3952   33668ca4b2df0d6f                  45      0.933333\n",
      "4535   3b7add8730fc6b5a                 141      0.978723\n",
      "6926   5a4d6e9ecca8af47                  24      0.958333\n",
      "7907   669aa302f404c76f                  33      0.939394\n",
      "9181   77dc88f9aababf9c                  24      0.958333\n",
      "12651  a602603508f197f5                  21      0.809524\n",
      "13100  abc6bc660561e0eb                 110      0.872727\n",
      "13234  ad5820d3d465893d                 133      0.879699\n",
      "15011  c32b190495290690                  23      0.913043\n",
      "15414  c7ff8e12ce2e5fbc                  22      0.772727\n",
      "15963  cf344e78ff108c9d                  25      0.920000\n",
      "16682  d86a802317659a5d                  21      0.857143\n",
      "17013  dca52aa98cc45f44                  32      0.968750\n",
      "17539  e393510ce1394579                  47      0.787234\n",
      "17758  e62a930727cd9ee1                  24      0.916667\n",
      "19263  f97322dd1b37560f                  29      0.862069\n",
      "19538  fcedfa2ddf1100d1                  22      0.818182\n"
     ]
    }
   ],
   "source": [
    "col = 'merchant'\n",
    "tmp_train = train_data.groupby(['UID',col])['Tag'].agg({col+'_count':'mean'}).reset_index()\n",
    "tmp_return = tmp_train.groupby([col])['UID'].agg({col+'_UID_count':'nunique'}).reset_index()\n",
    "tmp_train = tmp_train.groupby([col])[col+'_count'].agg({col+'_crt':'mean'}).reset_index()\n",
    "tmp_day = train_data.groupby([col])['day'].agg({col+'_day_nunique':'nunique', col+'_day_std':'std'}).reset_index()\n",
    "tmp_day = tmp_day.merge(tmp_train, on=col, how='left')\n",
    "tmp_return = tmp_return.merge(tmp_train, on=col, how='left')\n",
    "tmp_return = tmp_return[tmp_return[col+'_UID_count']>20]\n",
    "tmp_return = tmp_return[tmp_return[col+'_crt']>0.5]\n",
    "tmp_return = tmp_return[tmp_return[col+'_crt']<1]\n",
    "trains_rule2 = tmp_return[['merchant', 'merchant_crt']]\n",
    "print(tmp_return)"
   ]
  },
  {
   "cell_type": "code",
   "execution_count": 7,
   "metadata": {
    "collapsed": false
   },
   "outputs": [
    {
     "data": {
      "text/plain": [
       "25"
      ]
     },
     "execution_count": 7,
     "metadata": {},
     "output_type": "execute_result"
    }
   ],
   "source": [
    "len(trains_rule2)"
   ]
  },
  {
   "cell_type": "code",
   "execution_count": 8,
   "metadata": {
    "collapsed": false
   },
   "outputs": [
    {
     "data": {
      "text/plain": [
       "(25, 2)"
      ]
     },
     "execution_count": 8,
     "metadata": {},
     "output_type": "execute_result"
    }
   ],
   "source": [
    "c_merchant_train = trains_rule2\n",
    "c_merchant_train.shape"
   ]
  },
  {
   "cell_type": "code",
   "execution_count": 9,
   "metadata": {
    "collapsed": true
   },
   "outputs": [],
   "source": [
    "ctr = [0.35, 0.77, 0.82]"
   ]
  },
  {
   "cell_type": "code",
   "execution_count": 10,
   "metadata": {
    "collapsed": true
   },
   "outputs": [],
   "source": [
    "c_merchant_test = pd.DataFrame([ 'c71c876b8979028e', 'fafb0e565bc51007', 'e12586541e5f30b7'])"
   ]
  },
  {
   "cell_type": "code",
   "execution_count": 11,
   "metadata": {
    "collapsed": true
   },
   "outputs": [],
   "source": [
    "c_merchant_test = c_merchant_test.rename(columns={0:'merchant'})"
   ]
  },
  {
   "cell_type": "code",
   "execution_count": 12,
   "metadata": {
    "collapsed": false
   },
   "outputs": [
    {
     "data": {
      "text/plain": [
       "(3, 2)"
      ]
     },
     "execution_count": 12,
     "metadata": {},
     "output_type": "execute_result"
    }
   ],
   "source": [
    "c_merchant_test['merchant_crt'] = ctr\n",
    "c_merchant_test.shape"
   ]
  },
  {
   "cell_type": "code",
   "execution_count": 13,
   "metadata": {
    "collapsed": false
   },
   "outputs": [
    {
     "data": {
      "text/html": [
       "<div>\n",
       "<style scoped>\n",
       "    .dataframe tbody tr th:only-of-type {\n",
       "        vertical-align: middle;\n",
       "    }\n",
       "\n",
       "    .dataframe tbody tr th {\n",
       "        vertical-align: top;\n",
       "    }\n",
       "\n",
       "    .dataframe thead th {\n",
       "        text-align: right;\n",
       "    }\n",
       "</style>\n",
       "<table border=\"1\" class=\"dataframe\">\n",
       "  <thead>\n",
       "    <tr style=\"text-align: right;\">\n",
       "      <th></th>\n",
       "      <th>merchant</th>\n",
       "      <th>merchant_crt</th>\n",
       "    </tr>\n",
       "  </thead>\n",
       "  <tbody>\n",
       "    <tr>\n",
       "      <th>0</th>\n",
       "      <td>c71c876b8979028e</td>\n",
       "      <td>0.35</td>\n",
       "    </tr>\n",
       "    <tr>\n",
       "      <th>1</th>\n",
       "      <td>fafb0e565bc51007</td>\n",
       "      <td>0.77</td>\n",
       "    </tr>\n",
       "    <tr>\n",
       "      <th>2</th>\n",
       "      <td>e12586541e5f30b7</td>\n",
       "      <td>0.82</td>\n",
       "    </tr>\n",
       "  </tbody>\n",
       "</table>\n",
       "</div>"
      ],
      "text/plain": [
       "           merchant  merchant_crt\n",
       "0  c71c876b8979028e          0.35\n",
       "1  fafb0e565bc51007          0.77\n",
       "2  e12586541e5f30b7          0.82"
      ]
     },
     "execution_count": 13,
     "metadata": {},
     "output_type": "execute_result"
    }
   ],
   "source": [
    "c_merchant_test"
   ]
  },
  {
   "cell_type": "code",
   "execution_count": 14,
   "metadata": {
    "collapsed": true
   },
   "outputs": [],
   "source": [
    "c_data_train = pd.DataFrame(train_data[train_data['merchant'].isin(c_merchant_train.merchant)])\n",
    "c_data_test = pd.DataFrame(test_data[test_data['merchant'].isin(c_merchant_test.merchant)])"
   ]
  },
  {
   "cell_type": "code",
   "execution_count": 15,
   "metadata": {
    "collapsed": true
   },
   "outputs": [],
   "source": [
    "c_merchant = pd.concat([c_merchant_train, c_merchant_test])"
   ]
  },
  {
   "cell_type": "code",
   "execution_count": 16,
   "metadata": {
    "collapsed": true
   },
   "outputs": [],
   "source": [
    "c_data = pd.concat([c_data_train, c_data_test])"
   ]
  },
  {
   "cell_type": "code",
   "execution_count": 17,
   "metadata": {
    "collapsed": true
   },
   "outputs": [],
   "source": [
    "c_data = c_data.merge(c_merchant, on='merchant', how='left')"
   ]
  },
  {
   "cell_type": "code",
   "execution_count": 18,
   "metadata": {
    "collapsed": true
   },
   "outputs": [],
   "source": [
    "def give_crt(items):\n",
    "    mer = items['merchant']\n",
    "    day= items['day']\n",
    "    if mer=='c71c876b8979028e' and day==3:\n",
    "        return 0.94\n",
    "    else:\n",
    "        return items['merchant_crt']\n",
    "c_data['merchant_crt'] = c_data.apply(give_crt, axis=1)"
   ]
  },
  {
   "cell_type": "code",
   "execution_count": 19,
   "metadata": {
    "collapsed": false
   },
   "outputs": [
    {
     "data": {
      "text/plain": [
       "<matplotlib.axes._subplots.AxesSubplot at 0x1fa897b2fd0>"
      ]
     },
     "execution_count": 19,
     "metadata": {},
     "output_type": "execute_result"
    },
    {
     "data": {
      "image/png": "[encoded data removed]",
      "text/plain": [
       "<Figure size 432x288 with 1 Axes>"
      ]
     },
     "metadata": {},
     "output_type": "display_data"
    }
   ],
   "source": [
    "c_data['Tag'].value_counts().plot.pie(autopct = '%1.2f%%')"
   ]
  },
  {
   "cell_type": "code",
   "execution_count": 20,
   "metadata": {
    "collapsed": true
   },
   "outputs": [],
   "source": [
    "c_data.loc[c_data['device_code1'].isnull(),'device_code1'] = c_data[c_data['device_code1'].isnull()]['device_code2']\n",
    "c_data.loc[c_data['device_code1'].isnull(),'device_code1'] = c_data[c_data['device_code1'].isnull()]['device_code3']\n",
    "c_data = c_data.drop(['device_code2','device_code3'],axis=1)"
   ]
  },
  {
   "cell_type": "code",
   "execution_count": 21,
   "metadata": {
    "collapsed": true
   },
   "outputs": [],
   "source": [
    "c_data = c_data.drop(['acc_id2'],axis=1)"
   ]
  },
  {
   "cell_type": "code",
   "execution_count": 22,
   "metadata": {
    "collapsed": true
   },
   "outputs": [],
   "source": [
    "c_data['isnull_num'] = c_data.apply(lambda x: x.isnull().sum(),axis=1)"
   ]
  },
  {
   "cell_type": "code",
   "execution_count": 23,
   "metadata": {
    "collapsed": false
   },
   "outputs": [
    {
     "data": {
      "text/html": [
       "<div>\n",
       "<style scoped>\n",
       "    .dataframe tbody tr th:only-of-type {\n",
       "        vertical-align: middle;\n",
       "    }\n",
       "\n",
       "    .dataframe tbody tr th {\n",
       "        vertical-align: top;\n",
       "    }\n",
       "\n",
       "    .dataframe thead th {\n",
       "        text-align: right;\n",
       "    }\n",
       "</style>\n",
       "<table border=\"1\" class=\"dataframe\">\n",
       "  <thead>\n",
       "    <tr style=\"text-align: right;\">\n",
       "      <th></th>\n",
       "      <th>UID</th>\n",
       "      <th>channel</th>\n",
       "      <th>day</th>\n",
       "      <th>time</th>\n",
       "      <th>trans_amt</th>\n",
       "      <th>amt_src1</th>\n",
       "      <th>merchant</th>\n",
       "      <th>trans_type1</th>\n",
       "      <th>acc_id1</th>\n",
       "      <th>device_code1</th>\n",
       "      <th>...</th>\n",
       "      <th>amt_src2</th>\n",
       "      <th>acc_id3</th>\n",
       "      <th>geo_code</th>\n",
       "      <th>trans_type2</th>\n",
       "      <th>market_code</th>\n",
       "      <th>market_type</th>\n",
       "      <th>ip1_sub</th>\n",
       "      <th>Tag</th>\n",
       "      <th>merchant_crt</th>\n",
       "      <th>isnull_num</th>\n",
       "    </tr>\n",
       "  </thead>\n",
       "  <tbody>\n",
       "    <tr>\n",
       "      <th>0</th>\n",
       "      <td>19092</td>\n",
       "      <td>0</td>\n",
       "      <td>30</td>\n",
       "      <td>11:48:47</td>\n",
       "      <td>1459</td>\n",
       "      <td>0</td>\n",
       "      <td>0</td>\n",
       "      <td>0</td>\n",
       "      <td>0</td>\n",
       "      <td>0</td>\n",
       "      <td>...</td>\n",
       "      <td>0</td>\n",
       "      <td>-1</td>\n",
       "      <td>0</td>\n",
       "      <td>0</td>\n",
       "      <td>0</td>\n",
       "      <td>0</td>\n",
       "      <td>0</td>\n",
       "      <td>0</td>\n",
       "      <td>0.872727</td>\n",
       "      <td>1</td>\n",
       "    </tr>\n",
       "    <tr>\n",
       "      <th>1</th>\n",
       "      <td>13793</td>\n",
       "      <td>0</td>\n",
       "      <td>22</td>\n",
       "      <td>15:11:16</td>\n",
       "      <td>3905</td>\n",
       "      <td>1</td>\n",
       "      <td>0</td>\n",
       "      <td>1</td>\n",
       "      <td>1</td>\n",
       "      <td>1</td>\n",
       "      <td>...</td>\n",
       "      <td>0</td>\n",
       "      <td>-1</td>\n",
       "      <td>1</td>\n",
       "      <td>0</td>\n",
       "      <td>-1</td>\n",
       "      <td>-1</td>\n",
       "      <td>1</td>\n",
       "      <td>0</td>\n",
       "      <td>0.872727</td>\n",
       "      <td>3</td>\n",
       "    </tr>\n",
       "    <tr>\n",
       "      <th>2</th>\n",
       "      <td>21655</td>\n",
       "      <td>1</td>\n",
       "      <td>8</td>\n",
       "      <td>15:34:20</td>\n",
       "      <td>2818</td>\n",
       "      <td>2</td>\n",
       "      <td>1</td>\n",
       "      <td>2</td>\n",
       "      <td>-1</td>\n",
       "      <td>2</td>\n",
       "      <td>...</td>\n",
       "      <td>1</td>\n",
       "      <td>-1</td>\n",
       "      <td>2</td>\n",
       "      <td>1</td>\n",
       "      <td>1</td>\n",
       "      <td>1</td>\n",
       "      <td>2</td>\n",
       "      <td>1</td>\n",
       "      <td>0.939394</td>\n",
       "      <td>3</td>\n",
       "    </tr>\n",
       "    <tr>\n",
       "      <th>3</th>\n",
       "      <td>18494</td>\n",
       "      <td>0</td>\n",
       "      <td>8</td>\n",
       "      <td>18:58:23</td>\n",
       "      <td>216</td>\n",
       "      <td>0</td>\n",
       "      <td>2</td>\n",
       "      <td>0</td>\n",
       "      <td>2</td>\n",
       "      <td>3</td>\n",
       "      <td>...</td>\n",
       "      <td>0</td>\n",
       "      <td>-1</td>\n",
       "      <td>-1</td>\n",
       "      <td>0</td>\n",
       "      <td>2</td>\n",
       "      <td>0</td>\n",
       "      <td>3</td>\n",
       "      <td>0</td>\n",
       "      <td>0.879699</td>\n",
       "      <td>3</td>\n",
       "    </tr>\n",
       "    <tr>\n",
       "      <th>4</th>\n",
       "      <td>13949</td>\n",
       "      <td>1</td>\n",
       "      <td>1</td>\n",
       "      <td>11:59:00</td>\n",
       "      <td>2818</td>\n",
       "      <td>3</td>\n",
       "      <td>3</td>\n",
       "      <td>2</td>\n",
       "      <td>-1</td>\n",
       "      <td>4</td>\n",
       "      <td>...</td>\n",
       "      <td>-1</td>\n",
       "      <td>-1</td>\n",
       "      <td>2</td>\n",
       "      <td>1</td>\n",
       "      <td>-1</td>\n",
       "      <td>-1</td>\n",
       "      <td>4</td>\n",
       "      <td>0</td>\n",
       "      <td>0.937500</td>\n",
       "      <td>6</td>\n",
       "    </tr>\n",
       "  </tbody>\n",
       "</table>\n",
       "<p>5 rows × 25 columns</p>\n",
       "</div>"
      ],
      "text/plain": [
       "     UID  channel  day      time  trans_amt  amt_src1  merchant  trans_type1  \\\n",
       "0  19092        0   30  11:48:47       1459         0         0            0   \n",
       "1  13793        0   22  15:11:16       3905         1         0            1   \n",
       "2  21655        1    8  15:34:20       2818         2         1            2   \n",
       "3  18494        0    8  18:58:23        216         0         2            0   \n",
       "4  13949        1    1  11:59:00       2818         3         3            2   \n",
       "\n",
       "   acc_id1  device_code1     ...      amt_src2  acc_id3  geo_code  \\\n",
       "0        0             0     ...             0       -1         0   \n",
       "1        1             1     ...             0       -1         1   \n",
       "2       -1             2     ...             1       -1         2   \n",
       "3        2             3     ...             0       -1        -1   \n",
       "4       -1             4     ...            -1       -1         2   \n",
       "\n",
       "   trans_type2  market_code  market_type  ip1_sub  Tag  merchant_crt  \\\n",
       "0            0            0            0        0    0      0.872727   \n",
       "1            0           -1           -1        1    0      0.872727   \n",
       "2            1            1            1        2    1      0.939394   \n",
       "3            0            2            0        3    0      0.879699   \n",
       "4            1           -1           -1        4    0      0.937500   \n",
       "\n",
       "   isnull_num  \n",
       "0           1  \n",
       "1           3  \n",
       "2           3  \n",
       "3           3  \n",
       "4           6  \n",
       "\n",
       "[5 rows x 25 columns]"
      ]
     },
     "execution_count": 23,
     "metadata": {},
     "output_type": "execute_result"
    }
   ],
   "source": [
    "cols_f = ['amt_src1', 'trans_type1','amt_src2','geo_code','ip1_sub','mac1','merchant','acc_id3','channel','market_type','trans_type2','market_code','ip1','device1','device_code1','acc_id1','device2']\n",
    "for col in cols_f:\n",
    "    c_data[col] = pd.factorize(c_data[col])[0]\n",
    "c_data.head()"
   ]
  },
  {
   "cell_type": "code",
   "execution_count": 24,
   "metadata": {
    "collapsed": false
   },
   "outputs": [
    {
     "data": {
      "text/html": [
       "<div>\n",
       "<style scoped>\n",
       "    .dataframe tbody tr th:only-of-type {\n",
       "        vertical-align: middle;\n",
       "    }\n",
       "\n",
       "    .dataframe tbody tr th {\n",
       "        vertical-align: top;\n",
       "    }\n",
       "\n",
       "    .dataframe thead th {\n",
       "        text-align: right;\n",
       "    }\n",
       "</style>\n",
       "<table border=\"1\" class=\"dataframe\">\n",
       "  <thead>\n",
       "    <tr style=\"text-align: right;\">\n",
       "      <th></th>\n",
       "      <th>UID</th>\n",
       "      <th>channel</th>\n",
       "      <th>day</th>\n",
       "      <th>time</th>\n",
       "      <th>trans_amt</th>\n",
       "      <th>amt_src1</th>\n",
       "      <th>merchant</th>\n",
       "      <th>trans_type1</th>\n",
       "      <th>acc_id1</th>\n",
       "      <th>device_code1</th>\n",
       "      <th>...</th>\n",
       "      <th>acc_id3</th>\n",
       "      <th>geo_code</th>\n",
       "      <th>trans_type2</th>\n",
       "      <th>market_code</th>\n",
       "      <th>market_type</th>\n",
       "      <th>ip1_sub</th>\n",
       "      <th>Tag</th>\n",
       "      <th>merchant_crt</th>\n",
       "      <th>isnull_num</th>\n",
       "      <th>hour</th>\n",
       "    </tr>\n",
       "  </thead>\n",
       "  <tbody>\n",
       "    <tr>\n",
       "      <th>0</th>\n",
       "      <td>19092</td>\n",
       "      <td>0</td>\n",
       "      <td>30</td>\n",
       "      <td>12.110833</td>\n",
       "      <td>1459</td>\n",
       "      <td>0</td>\n",
       "      <td>0</td>\n",
       "      <td>0</td>\n",
       "      <td>0</td>\n",
       "      <td>0</td>\n",
       "      <td>...</td>\n",
       "      <td>-1</td>\n",
       "      <td>0</td>\n",
       "      <td>0</td>\n",
       "      <td>0</td>\n",
       "      <td>0</td>\n",
       "      <td>0</td>\n",
       "      <td>0</td>\n",
       "      <td>0.872727</td>\n",
       "      <td>1</td>\n",
       "      <td>11</td>\n",
       "    </tr>\n",
       "    <tr>\n",
       "      <th>1</th>\n",
       "      <td>13793</td>\n",
       "      <td>0</td>\n",
       "      <td>22</td>\n",
       "      <td>15.485556</td>\n",
       "      <td>3905</td>\n",
       "      <td>1</td>\n",
       "      <td>0</td>\n",
       "      <td>1</td>\n",
       "      <td>1</td>\n",
       "      <td>1</td>\n",
       "      <td>...</td>\n",
       "      <td>-1</td>\n",
       "      <td>1</td>\n",
       "      <td>0</td>\n",
       "      <td>-1</td>\n",
       "      <td>-1</td>\n",
       "      <td>1</td>\n",
       "      <td>0</td>\n",
       "      <td>0.872727</td>\n",
       "      <td>3</td>\n",
       "      <td>15</td>\n",
       "    </tr>\n",
       "    <tr>\n",
       "      <th>2</th>\n",
       "      <td>21655</td>\n",
       "      <td>1</td>\n",
       "      <td>8</td>\n",
       "      <td>15.870000</td>\n",
       "      <td>2818</td>\n",
       "      <td>2</td>\n",
       "      <td>1</td>\n",
       "      <td>2</td>\n",
       "      <td>-1</td>\n",
       "      <td>2</td>\n",
       "      <td>...</td>\n",
       "      <td>-1</td>\n",
       "      <td>2</td>\n",
       "      <td>1</td>\n",
       "      <td>1</td>\n",
       "      <td>1</td>\n",
       "      <td>2</td>\n",
       "      <td>1</td>\n",
       "      <td>0.939394</td>\n",
       "      <td>3</td>\n",
       "      <td>15</td>\n",
       "    </tr>\n",
       "    <tr>\n",
       "      <th>3</th>\n",
       "      <td>18494</td>\n",
       "      <td>0</td>\n",
       "      <td>8</td>\n",
       "      <td>19.270833</td>\n",
       "      <td>216</td>\n",
       "      <td>0</td>\n",
       "      <td>2</td>\n",
       "      <td>0</td>\n",
       "      <td>2</td>\n",
       "      <td>3</td>\n",
       "      <td>...</td>\n",
       "      <td>-1</td>\n",
       "      <td>-1</td>\n",
       "      <td>0</td>\n",
       "      <td>2</td>\n",
       "      <td>0</td>\n",
       "      <td>3</td>\n",
       "      <td>0</td>\n",
       "      <td>0.879699</td>\n",
       "      <td>3</td>\n",
       "      <td>18</td>\n",
       "    </tr>\n",
       "    <tr>\n",
       "      <th>4</th>\n",
       "      <td>13949</td>\n",
       "      <td>1</td>\n",
       "      <td>1</td>\n",
       "      <td>12.281111</td>\n",
       "      <td>2818</td>\n",
       "      <td>3</td>\n",
       "      <td>3</td>\n",
       "      <td>2</td>\n",
       "      <td>-1</td>\n",
       "      <td>4</td>\n",
       "      <td>...</td>\n",
       "      <td>-1</td>\n",
       "      <td>2</td>\n",
       "      <td>1</td>\n",
       "      <td>-1</td>\n",
       "      <td>-1</td>\n",
       "      <td>4</td>\n",
       "      <td>0</td>\n",
       "      <td>0.937500</td>\n",
       "      <td>6</td>\n",
       "      <td>11</td>\n",
       "    </tr>\n",
       "  </tbody>\n",
       "</table>\n",
       "<p>5 rows × 26 columns</p>\n",
       "</div>"
      ],
      "text/plain": [
       "     UID  channel  day       time  trans_amt  amt_src1  merchant  trans_type1  \\\n",
       "0  19092        0   30  12.110833       1459         0         0            0   \n",
       "1  13793        0   22  15.485556       3905         1         0            1   \n",
       "2  21655        1    8  15.870000       2818         2         1            2   \n",
       "3  18494        0    8  19.270833        216         0         2            0   \n",
       "4  13949        1    1  12.281111       2818         3         3            2   \n",
       "\n",
       "   acc_id1  device_code1  ...   acc_id3  geo_code  trans_type2  market_code  \\\n",
       "0        0             0  ...        -1         0            0            0   \n",
       "1        1             1  ...        -1         1            0           -1   \n",
       "2       -1             2  ...        -1         2            1            1   \n",
       "3        2             3  ...        -1        -1            0            2   \n",
       "4       -1             4  ...        -1         2            1           -1   \n",
       "\n",
       "   market_type  ip1_sub  Tag  merchant_crt  isnull_num  hour  \n",
       "0            0        0    0      0.872727           1    11  \n",
       "1           -1        1    0      0.872727           3    15  \n",
       "2            1        2    1      0.939394           3    15  \n",
       "3            0        3    0      0.879699           3    18  \n",
       "4           -1        4    0      0.937500           6    11  \n",
       "\n",
       "[5 rows x 26 columns]"
      ]
     },
     "execution_count": 24,
     "metadata": {},
     "output_type": "execute_result"
    }
   ],
   "source": [
    "from datetime import datetime\n",
    "c_data['hour'] = c_data.time.str[0:2].astype(int)\n",
    "\n",
    "c_data['time'] = pd.to_datetime(c_data['time'])\n",
    "c_data['time'] = c_data['time'].apply(lambda x:(x-datetime.now()).seconds/3600)\n",
    "\n",
    "c_data.head()"
   ]
  },
  {
   "cell_type": "code",
   "execution_count": 25,
   "metadata": {
    "collapsed": false
   },
   "outputs": [
    {
     "name": "stdout",
     "output_type": "stream",
     "text": [
      "(3066, 26)\n",
      "(6727, 26)\n"
     ]
    }
   ],
   "source": [
    "train = c_data[c_data['Tag']!=-1]\n",
    "test = c_data[c_data['Tag']==-1]\n",
    "print(train.shape)\n",
    "print(test.shape)"
   ]
  },
  {
   "cell_type": "code",
   "execution_count": 26,
   "metadata": {
    "collapsed": false
   },
   "outputs": [
    {
     "data": {
      "text/plain": [
       "(942, 1)"
      ]
     },
     "execution_count": 26,
     "metadata": {},
     "output_type": "execute_result"
    }
   ],
   "source": [
    "train_y = pd.DataFrame()\n",
    "train_y['UID'] = train.UID.unique()\n",
    "train_y.shape"
   ]
  },
  {
   "cell_type": "code",
   "execution_count": 27,
   "metadata": {
    "collapsed": false
   },
   "outputs": [
    {
     "name": "stderr",
     "output_type": "stream",
     "text": [
      "C:\\Program Files\\Anaconda3\\lib\\site-packages\\ipykernel\\__main__.py:2: FutureWarning: using a dict on a Series for aggregation\n",
      "is deprecated and will be removed in a future version\n",
      "  from ipykernel import kernelapp as app\n"
     ]
    },
    {
     "data": {
      "text/plain": [
       "(942, 2)"
      ]
     },
     "execution_count": 27,
     "metadata": {},
     "output_type": "execute_result"
    }
   ],
   "source": [
    "Tag = c_data[['UID','Tag']]\n",
    "train_y = train_y.merge(Tag.groupby(['UID'])['Tag'].agg({'Tag':lambda x: x.value_counts().index[0]}).reset_index(),on='UID',how='left')\n",
    "train_y.shape"
   ]
  },
  {
   "cell_type": "code",
   "execution_count": 28,
   "metadata": {
    "collapsed": false
   },
   "outputs": [
    {
     "data": {
      "text/plain": [
       "(1921, 1)"
      ]
     },
     "execution_count": 28,
     "metadata": {},
     "output_type": "execute_result"
    }
   ],
   "source": [
    "test_y = pd.DataFrame()\n",
    "test_y['UID'] = test.UID.unique()\n",
    "test_y.shape"
   ]
  },
  {
   "cell_type": "code",
   "execution_count": 29,
   "metadata": {
    "collapsed": false
   },
   "outputs": [
    {
     "name": "stderr",
     "output_type": "stream",
     "text": [
      "C:\\Program Files\\Anaconda3\\lib\\site-packages\\ipykernel\\__main__.py:2: FutureWarning: using a dict on a Series for aggregation\n",
      "is deprecated and will be removed in a future version\n",
      "  from ipykernel import kernelapp as app\n"
     ]
    },
    {
     "data": {
      "text/plain": [
       "(1921, 2)"
      ]
     },
     "execution_count": 29,
     "metadata": {},
     "output_type": "execute_result"
    }
   ],
   "source": [
    "Tag = c_data[['UID','Tag']]\n",
    "test_y = test_y.merge(Tag.groupby(['UID'])['Tag'].agg({'Tag':lambda x: x.value_counts().index[0]}).reset_index(),on='UID',how='left')\n",
    "test_y.shape"
   ]
  },
  {
   "cell_type": "code",
   "execution_count": 30,
   "metadata": {
    "collapsed": true
   },
   "outputs": [],
   "source": [
    "#类别型变量\n",
    "def get_category_feature(data_set,feature,train_y):\n",
    "    \n",
    "    #train_y = train_y.merge(data_set.groupby(['UID'])[feature].agg(lambda x: x.value_counts().index[0]).reset_index(),on='UID',how='left')\n",
    "\n",
    "    train_y = train_y.merge(data_set.groupby(['UID'])[feature].agg({feature+'_here_nunique':'nunique'}).reset_index(),on='UID',how='left')\n",
    "\n",
    "    return train_y"
   ]
  },
  {
   "cell_type": "code",
   "execution_count": 31,
   "metadata": {
    "collapsed": true
   },
   "outputs": [],
   "source": [
    "#数值型变量\n",
    "def get_numerical_feature(data_set,feature,train_y):\n",
    "    \n",
    "    agg_dict = {feature+'_here_sum':'sum', feature+'_here_mean':'mean', feature+'_here_var':'var', \n",
    "                feature+'_here_min':'min', feature+'_here_max':'max', feature+'_here_std':'std',\n",
    "               feature+'_here_mad':'mad',feature+'_here_skew':'skew'}\n",
    "    train_y = train_y.merge(data_set.groupby(['UID'])[feature].agg(agg_dict).reset_index(),on='UID',how='left')\n",
    "\n",
    "    return train_y"
   ]
  },
  {
   "cell_type": "code",
   "execution_count": 32,
   "metadata": {
    "collapsed": false
   },
   "outputs": [
    {
     "name": "stdout",
     "output_type": "stream",
     "text": [
      "channel\n",
      "day\n",
      "amt_src1\n",
      "merchant\n",
      "trans_type1\n",
      "acc_id1\n",
      "device_code1\n",
      "device1\n",
      "device2\n",
      "mac1\n",
      "ip1\n"
     ]
    },
    {
     "name": "stderr",
     "output_type": "stream",
     "text": [
      "C:\\Program Files\\Anaconda3\\lib\\site-packages\\ipykernel\\__main__.py:6: FutureWarning: using a dict on a Series for aggregation\n",
      "is deprecated and will be removed in a future version\n"
     ]
    },
    {
     "name": "stdout",
     "output_type": "stream",
     "text": [
      "amt_src2\n",
      "geo_code\n",
      "trans_type2\n",
      "ip1_sub\n",
      "hour\n",
      "(942, 18)\n"
     ]
    }
   ],
   "source": [
    "cols = ['channel', 'day', 'amt_src1', 'merchant', 'trans_type1', 'acc_id1', 'device_code1', 'device1',\n",
    "       'device2', 'mac1', 'ip1', 'amt_src2', 'geo_code', 'trans_type2', 'ip1_sub', 'hour']\n",
    "for col in cols:\n",
    "    print(col)\n",
    "    train_y = get_category_feature(train, col, train_y)\n",
    "print(train_y.shape)  "
   ]
  },
  {
   "cell_type": "code",
   "execution_count": 33,
   "metadata": {
    "collapsed": false
   },
   "outputs": [
    {
     "name": "stdout",
     "output_type": "stream",
     "text": [
      "time\n"
     ]
    },
    {
     "name": "stderr",
     "output_type": "stream",
     "text": [
      "C:\\Program Files\\Anaconda3\\lib\\site-packages\\ipykernel\\__main__.py:7: FutureWarning: using a dict on a Series for aggregation\n",
      "is deprecated and will be removed in a future version\n"
     ]
    },
    {
     "name": "stdout",
     "output_type": "stream",
     "text": [
      "trans_amt\n",
      "bal\n",
      "isnull_num\n",
      "(942, 50)\n"
     ]
    }
   ],
   "source": [
    "cols = ['time', 'trans_amt', 'bal', 'isnull_num']\n",
    "for col in cols:\n",
    "    print(col)\n",
    "    train_y = get_numerical_feature(train, col, train_y)\n",
    "print(train_y.shape)"
   ]
  },
  {
   "cell_type": "code",
   "execution_count": 34,
   "metadata": {
    "collapsed": false
   },
   "outputs": [
    {
     "name": "stdout",
     "output_type": "stream",
     "text": [
      "channel\n",
      "day\n",
      "amt_src1\n",
      "merchant\n",
      "trans_type1\n",
      "acc_id1\n",
      "device_code1\n",
      "device1\n",
      "device2\n",
      "mac1\n",
      "ip1\n",
      "amt_src2\n",
      "geo_code\n"
     ]
    },
    {
     "name": "stderr",
     "output_type": "stream",
     "text": [
      "C:\\Program Files\\Anaconda3\\lib\\site-packages\\ipykernel\\__main__.py:6: FutureWarning: using a dict on a Series for aggregation\n",
      "is deprecated and will be removed in a future version\n"
     ]
    },
    {
     "name": "stdout",
     "output_type": "stream",
     "text": [
      "trans_type2\n",
      "ip1_sub\n",
      "hour\n",
      "(1921, 18)\n"
     ]
    }
   ],
   "source": [
    "cols = ['channel', 'day', 'amt_src1', 'merchant', 'trans_type1', 'acc_id1', 'device_code1', 'device1',\n",
    "       'device2', 'mac1', 'ip1', 'amt_src2', 'geo_code', 'trans_type2', 'ip1_sub', 'hour']\n",
    "for col in cols:\n",
    "    print(col)\n",
    "    test_y = get_category_feature(test, col, test_y)\n",
    "print(test_y.shape)  "
   ]
  },
  {
   "cell_type": "code",
   "execution_count": 35,
   "metadata": {
    "collapsed": false
   },
   "outputs": [
    {
     "name": "stdout",
     "output_type": "stream",
     "text": [
      "time\n"
     ]
    },
    {
     "name": "stderr",
     "output_type": "stream",
     "text": [
      "C:\\Program Files\\Anaconda3\\lib\\site-packages\\ipykernel\\__main__.py:7: FutureWarning: using a dict on a Series for aggregation\n",
      "is deprecated and will be removed in a future version\n"
     ]
    },
    {
     "name": "stdout",
     "output_type": "stream",
     "text": [
      "trans_amt\n",
      "bal\n",
      "isnull_num\n",
      "(1921, 50)\n"
     ]
    }
   ],
   "source": [
    "cols = ['time', 'trans_amt', 'bal', 'isnull_num']\n",
    "for col in cols:\n",
    "    print(col)\n",
    "    test_y = get_numerical_feature(test, col, test_y)\n",
    "print(test_y.shape)"
   ]
  },
  {
   "cell_type": "code",
   "execution_count": 36,
   "metadata": {
    "collapsed": false
   },
   "outputs": [
    {
     "name": "stderr",
     "output_type": "stream",
     "text": [
      "C:\\Program Files\\Anaconda3\\lib\\site-packages\\ipykernel\\__main__.py:2: FutureWarning: using a dict on a Series for aggregation\n",
      "is deprecated and will be removed in a future version\n",
      "  from ipykernel import kernelapp as app\n",
      "C:\\Program Files\\Anaconda3\\lib\\site-packages\\ipykernel\\__main__.py:4: FutureWarning: using a dict on a Series for aggregation\n",
      "is deprecated and will be removed in a future version\n"
     ]
    }
   ],
   "source": [
    "def get_mercant_feature(data_set, train_y):\n",
    "    tmp = data_set.groupby(['merchant'])['UID'].agg({'merchant_UID_nunique':'nunique'})\n",
    "    tmp = data_set.merge(tmp, on='merchant', how='left')\n",
    "    tmp = tmp.groupby(['UID'])['merchant_UID_nunique'].agg({'merchant_UID_nunique_max':'max', 'merchant_UID_nunique_mim':'min','merchant_UID_nunique_mean':'mean'}).reset_index()\n",
    "    train_y = train_y.merge(tmp, on='UID', how='left')\n",
    "    return train_y\n",
    "train_y = get_mercant_feature(train, train_y)\n",
    "test_y = get_mercant_feature(test, test_y)"
   ]
  },
  {
   "cell_type": "code",
   "execution_count": 37,
   "metadata": {
    "collapsed": false
   },
   "outputs": [
    {
     "data": {
      "text/plain": [
       "(942, 53)"
      ]
     },
     "execution_count": 37,
     "metadata": {},
     "output_type": "execute_result"
    }
   ],
   "source": [
    "train_y.shape"
   ]
  },
  {
   "cell_type": "code",
   "execution_count": 38,
   "metadata": {
    "collapsed": false
   },
   "outputs": [
    {
     "data": {
      "text/plain": [
       "0.8779193205944799"
      ]
     },
     "execution_count": 38,
     "metadata": {},
     "output_type": "execute_result"
    }
   ],
   "source": [
    "train_y['Tag'].sum()/len(train_y)"
   ]
  },
  {
   "cell_type": "code",
   "execution_count": 39,
   "metadata": {
    "collapsed": true
   },
   "outputs": [],
   "source": [
    "##统计次数,day,merchant信息\n",
    "def get_day_feature(data_set, train_y):\n",
    "    tmp = data_set.groupby(['UID', 'merchant'])['day'].agg({'day':'mean'}).reset_index()\n",
    "    tmp_merchant_day = tmp.groupby(['merchant', 'day'])['UID'].agg({'count':'count'}).reset_index()\n",
    "    tmp_merchant = tmp.groupby(['merchant'])['UID'].agg({'all_count':'count'}).reset_index()\n",
    "    tmp_merchant_day = tmp_merchant_day.merge(tmp_merchant, on='merchant', how='left')\n",
    "    tmp_merchant_day['day_ratio'] = tmp_merchant_day['count']/tmp_merchant_day['all_count']\n",
    "    tmp = tmp.merge(tmp_merchant_day, on=['merchant', 'day'], how='left')\n",
    "    tmp = tmp.groupby(['UID'])['day_ratio'].agg({'ratio_mean':'mean', 'ratio_max':'max', 'ratio_min':'min'}).reset_index()\n",
    "    train_y = train_y.merge(tmp, on='UID', how='left')\n",
    "    return train_y"
   ]
  },
  {
   "cell_type": "code",
   "execution_count": 40,
   "metadata": {
    "collapsed": true
   },
   "outputs": [],
   "source": [
    "def get_day_merchant_features(data_set, train_y):\n",
    "    tmp = data_set.groupby(['UID', 'merchant'])['day'].agg({'merchant_count':'count'}).reset_index()\n",
    "    tmp = tmp.groupby(['UID'])['merchant_count'].agg({'merchant_count_mean':'mean', 'merchant_count_max':'max', 'merchant_count_min':'min'}).reset_index()\n",
    "    train_y = train_y.merge(tmp, on='UID', how='left')\n",
    "    return train_y"
   ]
  },
  {
   "cell_type": "code",
   "execution_count": 41,
   "metadata": {
    "collapsed": false
   },
   "outputs": [
    {
     "name": "stderr",
     "output_type": "stream",
     "text": [
      "C:\\Program Files\\Anaconda3\\lib\\site-packages\\ipykernel\\__main__.py:3: FutureWarning: using a dict on a Series for aggregation\n",
      "is deprecated and will be removed in a future version\n",
      "  app.launch_new_instance()\n",
      "C:\\Program Files\\Anaconda3\\lib\\site-packages\\ipykernel\\__main__.py:4: FutureWarning: using a dict on a Series for aggregation\n",
      "is deprecated and will be removed in a future version\n",
      "C:\\Program Files\\Anaconda3\\lib\\site-packages\\ipykernel\\__main__.py:5: FutureWarning: using a dict on a Series for aggregation\n",
      "is deprecated and will be removed in a future version\n",
      "C:\\Program Files\\Anaconda3\\lib\\site-packages\\ipykernel\\__main__.py:9: FutureWarning: using a dict on a Series for aggregation\n",
      "is deprecated and will be removed in a future version\n"
     ]
    }
   ],
   "source": [
    "train_y = get_day_feature(train, train_y)\n",
    "test_y = get_day_feature(test, test_y)"
   ]
  },
  {
   "cell_type": "code",
   "execution_count": 42,
   "metadata": {
    "collapsed": false
   },
   "outputs": [
    {
     "name": "stderr",
     "output_type": "stream",
     "text": [
      "C:\\Program Files\\Anaconda3\\lib\\site-packages\\ipykernel\\__main__.py:2: FutureWarning: using a dict on a Series for aggregation\n",
      "is deprecated and will be removed in a future version\n",
      "  from ipykernel import kernelapp as app\n",
      "C:\\Program Files\\Anaconda3\\lib\\site-packages\\ipykernel\\__main__.py:3: FutureWarning: using a dict on a Series for aggregation\n",
      "is deprecated and will be removed in a future version\n",
      "  app.launch_new_instance()\n"
     ]
    }
   ],
   "source": [
    "train_y = get_day_merchant_features(train, train_y)\n",
    "test_y = get_day_merchant_features(test, test_y)"
   ]
  },
  {
   "cell_type": "code",
   "execution_count": 43,
   "metadata": {
    "collapsed": true
   },
   "outputs": [],
   "source": [
    "def get_ctr_features(data_set, train_y):\n",
    "    agg_dict = {'merchant_ctr_max':'max', 'merchant_ctr_mean':'mean', 'merchant_ctr_min':'min', 'merchant_ctr_std':'std', 'merchant_ctr_sum':'sum'}\n",
    "    train_y = train_y.merge(data_set.groupby(['UID'])['merchant_crt'].agg(agg_dict).reset_index(),on='UID',how='left')\n",
    "    return train_y"
   ]
  },
  {
   "cell_type": "code",
   "execution_count": 44,
   "metadata": {
    "collapsed": false
   },
   "outputs": [
    {
     "name": "stderr",
     "output_type": "stream",
     "text": [
      "C:\\Program Files\\Anaconda3\\lib\\site-packages\\ipykernel\\__main__.py:3: FutureWarning: using a dict on a Series for aggregation\n",
      "is deprecated and will be removed in a future version\n",
      "  app.launch_new_instance()\n"
     ]
    }
   ],
   "source": [
    "train_y = get_ctr_features(train, train_y)\n",
    "test_y = get_ctr_features(test, test_y)"
   ]
  },
  {
   "cell_type": "code",
   "execution_count": 45,
   "metadata": {
    "collapsed": false
   },
   "outputs": [
    {
     "data": {
      "text/plain": [
       "1921"
      ]
     },
     "execution_count": 45,
     "metadata": {},
     "output_type": "execute_result"
    }
   ],
   "source": [
    "test_y['UID'].nunique()"
   ]
  },
  {
   "cell_type": "code",
   "execution_count": 46,
   "metadata": {
    "collapsed": true
   },
   "outputs": [],
   "source": [
    "all_features = pd.read_csv('../data/tag_data_baseline.csv')"
   ]
  },
  {
   "cell_type": "code",
   "execution_count": 47,
   "metadata": {
    "collapsed": true
   },
   "outputs": [],
   "source": [
    "op_nunique_features = [i for i in all_features.columns if 'op_nunique' in i]"
   ]
  },
  {
   "cell_type": "code",
   "execution_count": 48,
   "metadata": {
    "collapsed": true
   },
   "outputs": [],
   "source": [
    "trans_nunique_features = [i for i in all_features.columns if 'trans_nunique' in i]"
   ]
  },
  {
   "cell_type": "code",
   "execution_count": 49,
   "metadata": {
    "collapsed": true
   },
   "outputs": [],
   "source": [
    "isnull_features = [i for i in all_features.columns if 'isnull' in i]"
   ]
  },
  {
   "cell_type": "code",
   "execution_count": 50,
   "metadata": {
    "collapsed": true
   },
   "outputs": [],
   "source": [
    "time_features = ['op_time_abnor_nunique', 'op_time_abnor_count', 'trans_time_abnor_nunique', 'trans_time_abnor_count']"
   ]
  },
  {
   "cell_type": "code",
   "execution_count": 51,
   "metadata": {
    "collapsed": true
   },
   "outputs": [],
   "source": [
    "UID_features = [i for i in all_features.columns if '_UID_sum' in i]"
   ]
  },
  {
   "cell_type": "code",
   "execution_count": 52,
   "metadata": {
    "collapsed": true
   },
   "outputs": [],
   "source": [
    "base = ['UID']"
   ]
  },
  {
   "cell_type": "code",
   "execution_count": 53,
   "metadata": {
    "collapsed": true
   },
   "outputs": [],
   "source": [
    "merge_features = base + op_nunique_features + trans_nunique_features + isnull_features + time_features + UID_features"
   ]
  },
  {
   "cell_type": "code",
   "execution_count": 54,
   "metadata": {
    "collapsed": false
   },
   "outputs": [
    {
     "data": {
      "text/plain": [
       "89"
      ]
     },
     "execution_count": 54,
     "metadata": {},
     "output_type": "execute_result"
    }
   ],
   "source": [
    "len(merge_features)"
   ]
  },
  {
   "cell_type": "code",
   "execution_count": 55,
   "metadata": {
    "collapsed": true
   },
   "outputs": [],
   "source": [
    "merge_data = all_features[merge_features]"
   ]
  },
  {
   "cell_type": "code",
   "execution_count": 56,
   "metadata": {
    "collapsed": false
   },
   "outputs": [
    {
     "name": "stdout",
     "output_type": "stream",
     "text": [
      "(942, 152)\n",
      "(1921, 152)\n"
     ]
    }
   ],
   "source": [
    "train_y = train_y.merge(merge_data, on='UID', how='left')\n",
    "test_y = test_y.merge(merge_data, on='UID', how='left')\n",
    "print(train_y.shape)\n",
    "print(test_y.shape)"
   ]
  },
  {
   "cell_type": "code",
   "execution_count": 57,
   "metadata": {
    "collapsed": false
   },
   "outputs": [
    {
     "name": "stdout",
     "output_type": "stream",
     "text": [
      "(942, 148)\n",
      "(942,)\n",
      "(1921, 148)\n"
     ]
    }
   ],
   "source": [
    "X_tr = train_y.drop(['Tag', 'merchant_UID_nunique_max', 'merchant_UID_nunique_mim', 'merchant_UID_nunique_mean'],axis = 1)\n",
    "y_tr = train_y['Tag']\n",
    "\n",
    "test_id = test_y['UID']\n",
    "X_test = test_y.drop(['Tag', 'merchant_UID_nunique_max', 'merchant_UID_nunique_mim', 'merchant_UID_nunique_mean'],axis = 1)\n",
    "\n",
    "print(X_tr.shape)\n",
    "print(y_tr.shape)\n",
    "print(X_test.shape)"
   ]
  },
  {
   "cell_type": "code",
   "execution_count": 58,
   "metadata": {
    "collapsed": true
   },
   "outputs": [],
   "source": [
    "from xgboost import XGBClassifier\n",
    "from sklearn.model_selection import train_test_split"
   ]
  },
  {
   "cell_type": "code",
   "execution_count": 59,
   "metadata": {
    "collapsed": true
   },
   "outputs": [],
   "source": [
    "def tpr_weight_funtion(y_true,y_predict):\n",
    "    d = pd.DataFrame()\n",
    "    d['prob'] = list(y_predict)\n",
    "    d['y'] = list(y_true)\n",
    "    d = d.sort_values(['prob'], ascending=[0])\n",
    "    y = d.y\n",
    "    PosAll = pd.Series(y).value_counts()[1]\n",
    "    NegAll = pd.Series(y).value_counts()[0]\n",
    "    pCumsum = d['y'].cumsum()\n",
    "    nCumsum = np.arange(len(y)) - pCumsum + 1\n",
    "    pCumsumPer = pCumsum / PosAll\n",
    "    nCumsumPer = nCumsum / NegAll\n",
    "    TR1 = pCumsumPer[abs(nCumsumPer-0.001).idxmin()]\n",
    "    TR2 = pCumsumPer[abs(nCumsumPer-0.005).idxmin()]\n",
    "    TR3 = pCumsumPer[abs(nCumsumPer-0.01).idxmin()]\n",
    "    return 0.4 * TR1 + 0.3 * TR2 + 0.3 * TR3"
   ]
  },
  {
   "cell_type": "code",
   "execution_count": 60,
   "metadata": {
    "collapsed": true
   },
   "outputs": [],
   "source": [
    "X_train,X_val,y_train,y_val= train_test_split(X_tr,y_tr,test_size=0.2,random_state=2)"
   ]
  },
  {
   "cell_type": "code",
   "execution_count": 61,
   "metadata": {
    "collapsed": true
   },
   "outputs": [],
   "source": [
    "gbm = XGBClassifier( n_estimators= 50, max_depth= 2, min_child_weight= 2, gamma=0.9, subsample=0.9, \n",
    "                        colsample_bytree=0.8, objective= 'binary:logistic', nthread= -1, scale_pos_weight=1).fit(X_train, y_train)"
   ]
  },
  {
   "cell_type": "code",
   "execution_count": 62,
   "metadata": {
    "collapsed": true
   },
   "outputs": [],
   "source": [
    "ypred = gbm.predict_proba(X_val)"
   ]
  },
  {
   "cell_type": "code",
   "execution_count": 63,
   "metadata": {
    "collapsed": false
   },
   "outputs": [
    {
     "data": {
      "text/plain": [
       "(189, 148)"
      ]
     },
     "execution_count": 63,
     "metadata": {},
     "output_type": "execute_result"
    }
   ],
   "source": [
    "X_val.shape"
   ]
  },
  {
   "cell_type": "code",
   "execution_count": 64,
   "metadata": {
    "collapsed": false
   },
   "outputs": [
    {
     "name": "stdout",
     "output_type": "stream",
     "text": [
      "score: 0.005952380952380952\n"
     ]
    }
   ],
   "source": [
    "score = tpr_weight_funtion(y_val, ypred[:,1])\n",
    "print('score:',score)"
   ]
  },
  {
   "cell_type": "code",
   "execution_count": 65,
   "metadata": {
    "collapsed": false,
    "scrolled": true
   },
   "outputs": [
    {
     "data": {
      "text/plain": [
       "<matplotlib.axes._subplots.AxesSubplot at 0x1fa9e2437b8>"
      ]
     },
     "execution_count": 65,
     "metadata": {},
     "output_type": "execute_result"
    },
    {
     "data": {
      "image/png": "[encoded data removed]",
      "text/plain": [
       "<Figure size 1080x1080 with 1 Axes>"
      ]
     },
     "metadata": {},
     "output_type": "display_data"
    }
   ],
   "source": [
    "from xgboost import plot_importance\n",
    "fig,ax = plt.subplots(figsize=(15,15))\n",
    "plot_importance(gbm,height=0.5,ax=ax, max_num_features=64)"
   ]
  },
  {
   "cell_type": "code",
   "execution_count": 66,
   "metadata": {
    "collapsed": true
   },
   "outputs": [],
   "source": [
    "preds = gbm.predict_proba(X_test)"
   ]
  },
  {
   "cell_type": "code",
   "execution_count": 67,
   "metadata": {
    "collapsed": false
   },
   "outputs": [
    {
     "data": {
      "text/plain": [
       "array([0.8424707 , 0.7286481 , 0.7123545 , ..., 0.9249732 , 0.53743595,\n",
       "       0.950194  ], dtype=float32)"
      ]
     },
     "execution_count": 67,
     "metadata": {},
     "output_type": "execute_result"
    }
   ],
   "source": [
    "preds[:,1]"
   ]
  },
  {
   "cell_type": "code",
   "execution_count": 68,
   "metadata": {
    "collapsed": true
   },
   "outputs": [],
   "source": [
    "sub = pd.DataFrame()\n",
    "sub['UID'] = test_y['UID']\n",
    "sub['preds'] = preds[:,1]"
   ]
  },
  {
   "cell_type": "code",
   "execution_count": 70,
   "metadata": {
    "collapsed": false
   },
   "outputs": [],
   "source": [
    "test_tag = pd.read_csv('../result/ensemble.csv')"
   ]
  },
  {
   "cell_type": "code",
   "execution_count": 71,
   "metadata": {
    "collapsed": false
   },
   "outputs": [
    {
     "data": {
      "text/plain": [
       "(31588, 3)"
      ]
     },
     "execution_count": 71,
     "metadata": {},
     "output_type": "execute_result"
    }
   ],
   "source": [
    "pred_data = pd.merge(test_tag,sub,on='UID', how='left')\n",
    "pred_data.shape"
   ]
  },
  {
   "cell_type": "code",
   "execution_count": 72,
   "metadata": {
    "collapsed": false
   },
   "outputs": [
    {
     "name": "stderr",
     "output_type": "stream",
     "text": [
      "C:\\Program Files\\Anaconda3\\lib\\site-packages\\ipykernel\\__main__.py:1: SettingWithCopyWarning: \n",
      "A value is trying to be set on a copy of a slice from a DataFrame\n",
      "\n",
      "See the caveats in the documentation: http://pandas.pydata.org/pandas-docs/stable/indexing.html#indexing-view-versus-copy\n",
      "  if __name__ == '__main__':\n"
     ]
    }
   ],
   "source": [
    "pred_data['Tag'][(pred_data['preds']>0)] = (pred_data['Tag']*0.75+pred_data['preds']*0.25)"
   ]
  },
  {
   "cell_type": "code",
   "execution_count": 73,
   "metadata": {
    "collapsed": false,
    "scrolled": true
   },
   "outputs": [
    {
     "name": "stderr",
     "output_type": "stream",
     "text": [
      "C:\\Program Files\\Anaconda3\\lib\\site-packages\\ipykernel\\__main__.py:1: UserWarning: Boolean Series key will be reindexed to match DataFrame index.\n",
      "  if __name__ == '__main__':\n"
     ]
    },
    {
     "data": {
      "text/html": [
       "<div>\n",
       "<style scoped>\n",
       "    .dataframe tbody tr th:only-of-type {\n",
       "        vertical-align: middle;\n",
       "    }\n",
       "\n",
       "    .dataframe tbody tr th {\n",
       "        vertical-align: top;\n",
       "    }\n",
       "\n",
       "    .dataframe thead th {\n",
       "        text-align: right;\n",
       "    }\n",
       "</style>\n",
       "<table border=\"1\" class=\"dataframe\">\n",
       "  <thead>\n",
       "    <tr style=\"text-align: right;\">\n",
       "      <th></th>\n",
       "      <th>UID</th>\n",
       "      <th>Tag</th>\n",
       "      <th>preds</th>\n",
       "    </tr>\n",
       "  </thead>\n",
       "  <tbody>\n",
       "    <tr>\n",
       "      <th>0</th>\n",
       "      <td>100000</td>\n",
       "      <td>0.234691</td>\n",
       "      <td>0.429859</td>\n",
       "    </tr>\n",
       "    <tr>\n",
       "      <th>7</th>\n",
       "      <td>100007</td>\n",
       "      <td>0.420982</td>\n",
       "      <td>0.765811</td>\n",
       "    </tr>\n",
       "    <tr>\n",
       "      <th>10</th>\n",
       "      <td>100010</td>\n",
       "      <td>0.234339</td>\n",
       "      <td>0.912082</td>\n",
       "    </tr>\n",
       "    <tr>\n",
       "      <th>22</th>\n",
       "      <td>100022</td>\n",
       "      <td>0.688649</td>\n",
       "      <td>0.956385</td>\n",
       "    </tr>\n",
       "    <tr>\n",
       "      <th>27</th>\n",
       "      <td>100027</td>\n",
       "      <td>0.439341</td>\n",
       "      <td>0.820613</td>\n",
       "    </tr>\n",
       "    <tr>\n",
       "      <th>29</th>\n",
       "      <td>100029</td>\n",
       "      <td>0.303924</td>\n",
       "      <td>0.599836</td>\n",
       "    </tr>\n",
       "    <tr>\n",
       "      <th>40</th>\n",
       "      <td>100040</td>\n",
       "      <td>0.905871</td>\n",
       "      <td>0.973590</td>\n",
       "    </tr>\n",
       "    <tr>\n",
       "      <th>95</th>\n",
       "      <td>100095</td>\n",
       "      <td>0.294577</td>\n",
       "      <td>0.920695</td>\n",
       "    </tr>\n",
       "    <tr>\n",
       "      <th>171</th>\n",
       "      <td>100171</td>\n",
       "      <td>0.481662</td>\n",
       "      <td>0.800696</td>\n",
       "    </tr>\n",
       "    <tr>\n",
       "      <th>172</th>\n",
       "      <td>100172</td>\n",
       "      <td>0.654545</td>\n",
       "      <td>0.956385</td>\n",
       "    </tr>\n",
       "    <tr>\n",
       "      <th>207</th>\n",
       "      <td>100207</td>\n",
       "      <td>0.355586</td>\n",
       "      <td>0.690118</td>\n",
       "    </tr>\n",
       "    <tr>\n",
       "      <th>278</th>\n",
       "      <td>100278</td>\n",
       "      <td>0.250837</td>\n",
       "      <td>0.876647</td>\n",
       "    </tr>\n",
       "    <tr>\n",
       "      <th>290</th>\n",
       "      <td>100290</td>\n",
       "      <td>0.417476</td>\n",
       "      <td>0.955992</td>\n",
       "    </tr>\n",
       "    <tr>\n",
       "      <th>342</th>\n",
       "      <td>100342</td>\n",
       "      <td>0.716324</td>\n",
       "      <td>0.905979</td>\n",
       "    </tr>\n",
       "    <tr>\n",
       "      <th>424</th>\n",
       "      <td>100424</td>\n",
       "      <td>0.505474</td>\n",
       "      <td>0.881624</td>\n",
       "    </tr>\n",
       "    <tr>\n",
       "      <th>431</th>\n",
       "      <td>100431</td>\n",
       "      <td>0.556540</td>\n",
       "      <td>0.638944</td>\n",
       "    </tr>\n",
       "    <tr>\n",
       "      <th>435</th>\n",
       "      <td>100435</td>\n",
       "      <td>0.411533</td>\n",
       "      <td>0.955992</td>\n",
       "    </tr>\n",
       "    <tr>\n",
       "      <th>525</th>\n",
       "      <td>100525</td>\n",
       "      <td>0.291294</td>\n",
       "      <td>0.882125</td>\n",
       "    </tr>\n",
       "    <tr>\n",
       "      <th>561</th>\n",
       "      <td>100561</td>\n",
       "      <td>0.763944</td>\n",
       "      <td>0.956385</td>\n",
       "    </tr>\n",
       "    <tr>\n",
       "      <th>608</th>\n",
       "      <td>100608</td>\n",
       "      <td>0.204582</td>\n",
       "      <td>0.649749</td>\n",
       "    </tr>\n",
       "    <tr>\n",
       "      <th>609</th>\n",
       "      <td>100609</td>\n",
       "      <td>0.386163</td>\n",
       "      <td>0.925551</td>\n",
       "    </tr>\n",
       "    <tr>\n",
       "      <th>633</th>\n",
       "      <td>100633</td>\n",
       "      <td>0.685134</td>\n",
       "      <td>0.956385</td>\n",
       "    </tr>\n",
       "    <tr>\n",
       "      <th>672</th>\n",
       "      <td>100672</td>\n",
       "      <td>0.680411</td>\n",
       "      <td>0.922700</td>\n",
       "    </tr>\n",
       "    <tr>\n",
       "      <th>695</th>\n",
       "      <td>100695</td>\n",
       "      <td>0.255318</td>\n",
       "      <td>0.761208</td>\n",
       "    </tr>\n",
       "    <tr>\n",
       "      <th>701</th>\n",
       "      <td>100701</td>\n",
       "      <td>0.412935</td>\n",
       "      <td>0.537436</td>\n",
       "    </tr>\n",
       "    <tr>\n",
       "      <th>758</th>\n",
       "      <td>100758</td>\n",
       "      <td>0.297297</td>\n",
       "      <td>0.429859</td>\n",
       "    </tr>\n",
       "    <tr>\n",
       "      <th>789</th>\n",
       "      <td>100789</td>\n",
       "      <td>0.690943</td>\n",
       "      <td>0.905979</td>\n",
       "    </tr>\n",
       "    <tr>\n",
       "      <th>840</th>\n",
       "      <td>100840</td>\n",
       "      <td>0.815758</td>\n",
       "      <td>0.970104</td>\n",
       "    </tr>\n",
       "    <tr>\n",
       "      <th>845</th>\n",
       "      <td>100845</td>\n",
       "      <td>0.612651</td>\n",
       "      <td>0.955426</td>\n",
       "    </tr>\n",
       "    <tr>\n",
       "      <th>848</th>\n",
       "      <td>100848</td>\n",
       "      <td>0.270185</td>\n",
       "      <td>0.643077</td>\n",
       "    </tr>\n",
       "    <tr>\n",
       "      <th>...</th>\n",
       "      <td>...</td>\n",
       "      <td>...</td>\n",
       "      <td>...</td>\n",
       "    </tr>\n",
       "    <tr>\n",
       "      <th>31147</th>\n",
       "      <td>131147</td>\n",
       "      <td>0.665062</td>\n",
       "      <td>0.871683</td>\n",
       "    </tr>\n",
       "    <tr>\n",
       "      <th>31169</th>\n",
       "      <td>131169</td>\n",
       "      <td>0.297768</td>\n",
       "      <td>0.951909</td>\n",
       "    </tr>\n",
       "    <tr>\n",
       "      <th>31174</th>\n",
       "      <td>131174</td>\n",
       "      <td>0.259312</td>\n",
       "      <td>0.843864</td>\n",
       "    </tr>\n",
       "    <tr>\n",
       "      <th>31188</th>\n",
       "      <td>131188</td>\n",
       "      <td>0.259163</td>\n",
       "      <td>0.649194</td>\n",
       "    </tr>\n",
       "    <tr>\n",
       "      <th>31193</th>\n",
       "      <td>131193</td>\n",
       "      <td>0.239706</td>\n",
       "      <td>0.844007</td>\n",
       "    </tr>\n",
       "    <tr>\n",
       "      <th>31232</th>\n",
       "      <td>131232</td>\n",
       "      <td>0.677003</td>\n",
       "      <td>0.956385</td>\n",
       "    </tr>\n",
       "    <tr>\n",
       "      <th>31247</th>\n",
       "      <td>131247</td>\n",
       "      <td>0.535274</td>\n",
       "      <td>0.807915</td>\n",
       "    </tr>\n",
       "    <tr>\n",
       "      <th>31265</th>\n",
       "      <td>131265</td>\n",
       "      <td>0.205140</td>\n",
       "      <td>0.668884</td>\n",
       "    </tr>\n",
       "    <tr>\n",
       "      <th>31268</th>\n",
       "      <td>131268</td>\n",
       "      <td>0.554870</td>\n",
       "      <td>0.936224</td>\n",
       "    </tr>\n",
       "    <tr>\n",
       "      <th>31293</th>\n",
       "      <td>131293</td>\n",
       "      <td>0.320454</td>\n",
       "      <td>0.950753</td>\n",
       "    </tr>\n",
       "    <tr>\n",
       "      <th>31303</th>\n",
       "      <td>131303</td>\n",
       "      <td>0.317683</td>\n",
       "      <td>0.777266</td>\n",
       "    </tr>\n",
       "    <tr>\n",
       "      <th>31308</th>\n",
       "      <td>131308</td>\n",
       "      <td>0.488290</td>\n",
       "      <td>0.806442</td>\n",
       "    </tr>\n",
       "    <tr>\n",
       "      <th>31313</th>\n",
       "      <td>131313</td>\n",
       "      <td>0.490447</td>\n",
       "      <td>0.882588</td>\n",
       "    </tr>\n",
       "    <tr>\n",
       "      <th>31343</th>\n",
       "      <td>131343</td>\n",
       "      <td>0.281166</td>\n",
       "      <td>0.975661</td>\n",
       "    </tr>\n",
       "    <tr>\n",
       "      <th>31349</th>\n",
       "      <td>131349</td>\n",
       "      <td>0.358095</td>\n",
       "      <td>0.944305</td>\n",
       "    </tr>\n",
       "    <tr>\n",
       "      <th>31351</th>\n",
       "      <td>131351</td>\n",
       "      <td>0.510423</td>\n",
       "      <td>0.898285</td>\n",
       "    </tr>\n",
       "    <tr>\n",
       "      <th>31357</th>\n",
       "      <td>131357</td>\n",
       "      <td>0.207494</td>\n",
       "      <td>0.760185</td>\n",
       "    </tr>\n",
       "    <tr>\n",
       "      <th>31362</th>\n",
       "      <td>131362</td>\n",
       "      <td>0.416196</td>\n",
       "      <td>0.862581</td>\n",
       "    </tr>\n",
       "    <tr>\n",
       "      <th>31404</th>\n",
       "      <td>131404</td>\n",
       "      <td>0.531370</td>\n",
       "      <td>0.885288</td>\n",
       "    </tr>\n",
       "    <tr>\n",
       "      <th>31427</th>\n",
       "      <td>131427</td>\n",
       "      <td>0.240951</td>\n",
       "      <td>0.802729</td>\n",
       "    </tr>\n",
       "    <tr>\n",
       "      <th>31439</th>\n",
       "      <td>131439</td>\n",
       "      <td>0.641136</td>\n",
       "      <td>0.638944</td>\n",
       "    </tr>\n",
       "    <tr>\n",
       "      <th>31462</th>\n",
       "      <td>131462</td>\n",
       "      <td>0.297968</td>\n",
       "      <td>0.566448</td>\n",
       "    </tr>\n",
       "    <tr>\n",
       "      <th>31477</th>\n",
       "      <td>131477</td>\n",
       "      <td>0.214538</td>\n",
       "      <td>0.819315</td>\n",
       "    </tr>\n",
       "    <tr>\n",
       "      <th>31488</th>\n",
       "      <td>131488</td>\n",
       "      <td>0.912043</td>\n",
       "      <td>0.977812</td>\n",
       "    </tr>\n",
       "    <tr>\n",
       "      <th>31497</th>\n",
       "      <td>131497</td>\n",
       "      <td>0.314175</td>\n",
       "      <td>0.914185</td>\n",
       "    </tr>\n",
       "    <tr>\n",
       "      <th>31498</th>\n",
       "      <td>131498</td>\n",
       "      <td>0.263054</td>\n",
       "      <td>0.969980</td>\n",
       "    </tr>\n",
       "    <tr>\n",
       "      <th>31539</th>\n",
       "      <td>131539</td>\n",
       "      <td>0.393251</td>\n",
       "      <td>0.909552</td>\n",
       "    </tr>\n",
       "    <tr>\n",
       "      <th>31549</th>\n",
       "      <td>131549</td>\n",
       "      <td>0.510844</td>\n",
       "      <td>0.898285</td>\n",
       "    </tr>\n",
       "    <tr>\n",
       "      <th>31569</th>\n",
       "      <td>131569</td>\n",
       "      <td>0.200138</td>\n",
       "      <td>0.753499</td>\n",
       "    </tr>\n",
       "    <tr>\n",
       "      <th>31585</th>\n",
       "      <td>131585</td>\n",
       "      <td>0.932200</td>\n",
       "      <td>0.926322</td>\n",
       "    </tr>\n",
       "  </tbody>\n",
       "</table>\n",
       "<p>1521 rows × 3 columns</p>\n",
       "</div>"
      ],
      "text/plain": [
       "          UID       Tag     preds\n",
       "0      100000  0.234691  0.429859\n",
       "7      100007  0.420982  0.765811\n",
       "10     100010  0.234339  0.912082\n",
       "22     100022  0.688649  0.956385\n",
       "27     100027  0.439341  0.820613\n",
       "29     100029  0.303924  0.599836\n",
       "40     100040  0.905871  0.973590\n",
       "95     100095  0.294577  0.920695\n",
       "171    100171  0.481662  0.800696\n",
       "172    100172  0.654545  0.956385\n",
       "207    100207  0.355586  0.690118\n",
       "278    100278  0.250837  0.876647\n",
       "290    100290  0.417476  0.955992\n",
       "342    100342  0.716324  0.905979\n",
       "424    100424  0.505474  0.881624\n",
       "431    100431  0.556540  0.638944\n",
       "435    100435  0.411533  0.955992\n",
       "525    100525  0.291294  0.882125\n",
       "561    100561  0.763944  0.956385\n",
       "608    100608  0.204582  0.649749\n",
       "609    100609  0.386163  0.925551\n",
       "633    100633  0.685134  0.956385\n",
       "672    100672  0.680411  0.922700\n",
       "695    100695  0.255318  0.761208\n",
       "701    100701  0.412935  0.537436\n",
       "758    100758  0.297297  0.429859\n",
       "789    100789  0.690943  0.905979\n",
       "840    100840  0.815758  0.970104\n",
       "845    100845  0.612651  0.955426\n",
       "848    100848  0.270185  0.643077\n",
       "...       ...       ...       ...\n",
       "31147  131147  0.665062  0.871683\n",
       "31169  131169  0.297768  0.951909\n",
       "31174  131174  0.259312  0.843864\n",
       "31188  131188  0.259163  0.649194\n",
       "31193  131193  0.239706  0.844007\n",
       "31232  131232  0.677003  0.956385\n",
       "31247  131247  0.535274  0.807915\n",
       "31265  131265  0.205140  0.668884\n",
       "31268  131268  0.554870  0.936224\n",
       "31293  131293  0.320454  0.950753\n",
       "31303  131303  0.317683  0.777266\n",
       "31308  131308  0.488290  0.806442\n",
       "31313  131313  0.490447  0.882588\n",
       "31343  131343  0.281166  0.975661\n",
       "31349  131349  0.358095  0.944305\n",
       "31351  131351  0.510423  0.898285\n",
       "31357  131357  0.207494  0.760185\n",
       "31362  131362  0.416196  0.862581\n",
       "31404  131404  0.531370  0.885288\n",
       "31427  131427  0.240951  0.802729\n",
       "31439  131439  0.641136  0.638944\n",
       "31462  131462  0.297968  0.566448\n",
       "31477  131477  0.214538  0.819315\n",
       "31488  131488  0.912043  0.977812\n",
       "31497  131497  0.314175  0.914185\n",
       "31498  131498  0.263054  0.969980\n",
       "31539  131539  0.393251  0.909552\n",
       "31549  131549  0.510844  0.898285\n",
       "31569  131569  0.200138  0.753499\n",
       "31585  131585  0.932200  0.926322\n",
       "\n",
       "[1521 rows x 3 columns]"
      ]
     },
     "execution_count": 73,
     "metadata": {},
     "output_type": "execute_result"
    }
   ],
   "source": [
    "pred_data[pred_data['Tag']>0.2][pred_data['preds']>0]"
   ]
  },
  {
   "cell_type": "code",
   "execution_count": 74,
   "metadata": {
    "collapsed": true
   },
   "outputs": [],
   "source": [
    "ip_rule = ['28d3087a4596920a']"
   ]
  },
  {
   "cell_type": "code",
   "execution_count": 75,
   "metadata": {
    "collapsed": true
   },
   "outputs": [],
   "source": [
    "test_rule_uid = pd.DataFrame(test_data[test_data['ip1'].isin(ip_rule)].UID.unique())"
   ]
  },
  {
   "cell_type": "code",
   "execution_count": 76,
   "metadata": {
    "collapsed": false
   },
   "outputs": [
    {
     "data": {
      "text/plain": [
       "217"
      ]
     },
     "execution_count": 76,
     "metadata": {},
     "output_type": "execute_result"
    }
   ],
   "source": [
    "len(test_rule_uid)"
   ]
  },
  {
   "cell_type": "code",
   "execution_count": 77,
   "metadata": {
    "collapsed": true
   },
   "outputs": [],
   "source": [
    "pred_data_rule = pred_data[['UID','Tag']].merge(test_rule_uid,left_on ='UID',right_on =0, how ='left')"
   ]
  },
  {
   "cell_type": "code",
   "execution_count": 78,
   "metadata": {
    "collapsed": false
   },
   "outputs": [
    {
     "name": "stderr",
     "output_type": "stream",
     "text": [
      "C:\\Program Files\\Anaconda3\\lib\\site-packages\\ipykernel\\__main__.py:1: SettingWithCopyWarning: \n",
      "A value is trying to be set on a copy of a slice from a DataFrame\n",
      "\n",
      "See the caveats in the documentation: http://pandas.pydata.org/pandas-docs/stable/indexing.html#indexing-view-versus-copy\n",
      "  if __name__ == '__main__':\n"
     ]
    }
   ],
   "source": [
    "pred_data_rule['Tag'][(pred_data_rule[0]>0)] = pred_data_rule['Tag']*0.9+0.1"
   ]
  },
  {
   "cell_type": "code",
   "execution_count": 79,
   "metadata": {
    "collapsed": true
   },
   "outputs": [],
   "source": [
    "pred_data_rule[['UID', 'Tag']].to_csv('../result/rule.csv', index=False)"
   ]
  },
  {
   "cell_type": "code",
   "execution_count": null,
   "metadata": {
    "collapsed": true
   },
   "outputs": [],
   "source": []
  }
 ],
 "metadata": {
  "anaconda-cloud": {},
  "kernelspec": {
   "display_name": "Python [default]",
   "language": "python",
   "name": "python3"
  },
  "language_info": {
   "codemirror_mode": {
    "name": "ipython",
    "version": 3
   },
   "file_extension": ".py",
   "mimetype": "text/x-python",
   "name": "python",
   "nbconvert_exporter": "python",
   "pygments_lexer": "ipython3",
   "version": "3.5.2"
  }
 },
 "nbformat": 4,
 "nbformat_minor": 2
}
